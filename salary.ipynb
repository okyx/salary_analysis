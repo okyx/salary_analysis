{
  "nbformat": 4,
  "nbformat_minor": 0,
  "metadata": {
    "colab": {
      "name": "salary.ipynb",
      "provenance": []
    },
    "kernelspec": {
      "name": "python3",
      "display_name": "Python 3"
    },
    "language_info": {
      "name": "python"
    }
  },
  "cells": [
    {
      "cell_type": "code",
      "execution_count": 312,
      "metadata": {
        "id": "fr37u-F5RXkv"
      },
      "outputs": [],
      "source": [
        "import pandas as pd\n",
        "import matplotlib.pyplot as plt\n",
        "import numpy as np\n",
        "import scipy.stats as stats"
      ]
    },
    {
      "cell_type": "code",
      "source": [
        "data = pd.read_csv('/content/sample_data/Salary_Dataset_with_Extra_Features.csv')"
      ],
      "metadata": {
        "id": "qQTjzKyUR4Ir"
      },
      "execution_count": 251,
      "outputs": []
    },
    {
      "cell_type": "code",
      "source": [
        "data.head()"
      ],
      "metadata": {
        "colab": {
          "base_uri": "https://localhost:8080/",
          "height": 206
        },
        "id": "cvm-VSC7R-Kr",
        "outputId": "a11f9e42-3a7c-42aa-f904-bdf2d4b6aa56"
      },
      "execution_count": 167,
      "outputs": [
        {
          "output_type": "execute_result",
          "data": {
            "text/plain": [
              "   Rating                      Company Name          Job Title   Salary  \\\n",
              "0     3.8                            Sasken  Android Developer   400000   \n",
              "1     4.5  Advanced Millennium Technologies  Android Developer   400000   \n",
              "2     4.0                         Unacademy  Android Developer  1000000   \n",
              "3     3.8                SnapBizz Cloudtech  Android Developer   300000   \n",
              "4     4.4            Appoids Tech Solutions  Android Developer   600000   \n",
              "\n",
              "   Salaries Reported   Location Employment Status Job Roles  \n",
              "0                  3  Bangalore         Full Time   Android  \n",
              "1                  3  Bangalore         Full Time   Android  \n",
              "2                  3  Bangalore         Full Time   Android  \n",
              "3                  3  Bangalore         Full Time   Android  \n",
              "4                  3  Bangalore         Full Time   Android  "
            ],
            "text/html": [
              "\n",
              "  <div id=\"df-c7e97a12-a7e7-40f3-a3c8-22c7414d366e\">\n",
              "    <div class=\"colab-df-container\">\n",
              "      <div>\n",
              "<style scoped>\n",
              "    .dataframe tbody tr th:only-of-type {\n",
              "        vertical-align: middle;\n",
              "    }\n",
              "\n",
              "    .dataframe tbody tr th {\n",
              "        vertical-align: top;\n",
              "    }\n",
              "\n",
              "    .dataframe thead th {\n",
              "        text-align: right;\n",
              "    }\n",
              "</style>\n",
              "<table border=\"1\" class=\"dataframe\">\n",
              "  <thead>\n",
              "    <tr style=\"text-align: right;\">\n",
              "      <th></th>\n",
              "      <th>Rating</th>\n",
              "      <th>Company Name</th>\n",
              "      <th>Job Title</th>\n",
              "      <th>Salary</th>\n",
              "      <th>Salaries Reported</th>\n",
              "      <th>Location</th>\n",
              "      <th>Employment Status</th>\n",
              "      <th>Job Roles</th>\n",
              "    </tr>\n",
              "  </thead>\n",
              "  <tbody>\n",
              "    <tr>\n",
              "      <th>0</th>\n",
              "      <td>3.8</td>\n",
              "      <td>Sasken</td>\n",
              "      <td>Android Developer</td>\n",
              "      <td>400000</td>\n",
              "      <td>3</td>\n",
              "      <td>Bangalore</td>\n",
              "      <td>Full Time</td>\n",
              "      <td>Android</td>\n",
              "    </tr>\n",
              "    <tr>\n",
              "      <th>1</th>\n",
              "      <td>4.5</td>\n",
              "      <td>Advanced Millennium Technologies</td>\n",
              "      <td>Android Developer</td>\n",
              "      <td>400000</td>\n",
              "      <td>3</td>\n",
              "      <td>Bangalore</td>\n",
              "      <td>Full Time</td>\n",
              "      <td>Android</td>\n",
              "    </tr>\n",
              "    <tr>\n",
              "      <th>2</th>\n",
              "      <td>4.0</td>\n",
              "      <td>Unacademy</td>\n",
              "      <td>Android Developer</td>\n",
              "      <td>1000000</td>\n",
              "      <td>3</td>\n",
              "      <td>Bangalore</td>\n",
              "      <td>Full Time</td>\n",
              "      <td>Android</td>\n",
              "    </tr>\n",
              "    <tr>\n",
              "      <th>3</th>\n",
              "      <td>3.8</td>\n",
              "      <td>SnapBizz Cloudtech</td>\n",
              "      <td>Android Developer</td>\n",
              "      <td>300000</td>\n",
              "      <td>3</td>\n",
              "      <td>Bangalore</td>\n",
              "      <td>Full Time</td>\n",
              "      <td>Android</td>\n",
              "    </tr>\n",
              "    <tr>\n",
              "      <th>4</th>\n",
              "      <td>4.4</td>\n",
              "      <td>Appoids Tech Solutions</td>\n",
              "      <td>Android Developer</td>\n",
              "      <td>600000</td>\n",
              "      <td>3</td>\n",
              "      <td>Bangalore</td>\n",
              "      <td>Full Time</td>\n",
              "      <td>Android</td>\n",
              "    </tr>\n",
              "  </tbody>\n",
              "</table>\n",
              "</div>\n",
              "      <button class=\"colab-df-convert\" onclick=\"convertToInteractive('df-c7e97a12-a7e7-40f3-a3c8-22c7414d366e')\"\n",
              "              title=\"Convert this dataframe to an interactive table.\"\n",
              "              style=\"display:none;\">\n",
              "        \n",
              "  <svg xmlns=\"http://www.w3.org/2000/svg\" height=\"24px\"viewBox=\"0 0 24 24\"\n",
              "       width=\"24px\">\n",
              "    <path d=\"M0 0h24v24H0V0z\" fill=\"none\"/>\n",
              "    <path d=\"M18.56 5.44l.94 2.06.94-2.06 2.06-.94-2.06-.94-.94-2.06-.94 2.06-2.06.94zm-11 1L8.5 8.5l.94-2.06 2.06-.94-2.06-.94L8.5 2.5l-.94 2.06-2.06.94zm10 10l.94 2.06.94-2.06 2.06-.94-2.06-.94-.94-2.06-.94 2.06-2.06.94z\"/><path d=\"M17.41 7.96l-1.37-1.37c-.4-.4-.92-.59-1.43-.59-.52 0-1.04.2-1.43.59L10.3 9.45l-7.72 7.72c-.78.78-.78 2.05 0 2.83L4 21.41c.39.39.9.59 1.41.59.51 0 1.02-.2 1.41-.59l7.78-7.78 2.81-2.81c.8-.78.8-2.07 0-2.86zM5.41 20L4 18.59l7.72-7.72 1.47 1.35L5.41 20z\"/>\n",
              "  </svg>\n",
              "      </button>\n",
              "      \n",
              "  <style>\n",
              "    .colab-df-container {\n",
              "      display:flex;\n",
              "      flex-wrap:wrap;\n",
              "      gap: 12px;\n",
              "    }\n",
              "\n",
              "    .colab-df-convert {\n",
              "      background-color: #E8F0FE;\n",
              "      border: none;\n",
              "      border-radius: 50%;\n",
              "      cursor: pointer;\n",
              "      display: none;\n",
              "      fill: #1967D2;\n",
              "      height: 32px;\n",
              "      padding: 0 0 0 0;\n",
              "      width: 32px;\n",
              "    }\n",
              "\n",
              "    .colab-df-convert:hover {\n",
              "      background-color: #E2EBFA;\n",
              "      box-shadow: 0px 1px 2px rgba(60, 64, 67, 0.3), 0px 1px 3px 1px rgba(60, 64, 67, 0.15);\n",
              "      fill: #174EA6;\n",
              "    }\n",
              "\n",
              "    [theme=dark] .colab-df-convert {\n",
              "      background-color: #3B4455;\n",
              "      fill: #D2E3FC;\n",
              "    }\n",
              "\n",
              "    [theme=dark] .colab-df-convert:hover {\n",
              "      background-color: #434B5C;\n",
              "      box-shadow: 0px 1px 3px 1px rgba(0, 0, 0, 0.15);\n",
              "      filter: drop-shadow(0px 1px 2px rgba(0, 0, 0, 0.3));\n",
              "      fill: #FFFFFF;\n",
              "    }\n",
              "  </style>\n",
              "\n",
              "      <script>\n",
              "        const buttonEl =\n",
              "          document.querySelector('#df-c7e97a12-a7e7-40f3-a3c8-22c7414d366e button.colab-df-convert');\n",
              "        buttonEl.style.display =\n",
              "          google.colab.kernel.accessAllowed ? 'block' : 'none';\n",
              "\n",
              "        async function convertToInteractive(key) {\n",
              "          const element = document.querySelector('#df-c7e97a12-a7e7-40f3-a3c8-22c7414d366e');\n",
              "          const dataTable =\n",
              "            await google.colab.kernel.invokeFunction('convertToInteractive',\n",
              "                                                     [key], {});\n",
              "          if (!dataTable) return;\n",
              "\n",
              "          const docLinkHtml = 'Like what you see? Visit the ' +\n",
              "            '<a target=\"_blank\" href=https://colab.research.google.com/notebooks/data_table.ipynb>data table notebook</a>'\n",
              "            + ' to learn more about interactive tables.';\n",
              "          element.innerHTML = '';\n",
              "          dataTable['output_type'] = 'display_data';\n",
              "          await google.colab.output.renderOutput(dataTable, element);\n",
              "          const docLink = document.createElement('div');\n",
              "          docLink.innerHTML = docLinkHtml;\n",
              "          element.appendChild(docLink);\n",
              "        }\n",
              "      </script>\n",
              "    </div>\n",
              "  </div>\n",
              "  "
            ]
          },
          "metadata": {},
          "execution_count": 167
        }
      ]
    },
    {
      "cell_type": "code",
      "source": [
        "data.info()"
      ],
      "metadata": {
        "colab": {
          "base_uri": "https://localhost:8080/"
        },
        "id": "18jBROA6SDTm",
        "outputId": "49fb8ed6-52e3-48b8-848d-53c66f8a4338"
      },
      "execution_count": 168,
      "outputs": [
        {
          "output_type": "stream",
          "name": "stdout",
          "text": [
            "<class 'pandas.core.frame.DataFrame'>\n",
            "RangeIndex: 22770 entries, 0 to 22769\n",
            "Data columns (total 8 columns):\n",
            " #   Column             Non-Null Count  Dtype  \n",
            "---  ------             --------------  -----  \n",
            " 0   Rating             22770 non-null  float64\n",
            " 1   Company Name       22770 non-null  object \n",
            " 2   Job Title          22770 non-null  object \n",
            " 3   Salary             22770 non-null  int64  \n",
            " 4   Salaries Reported  22770 non-null  int64  \n",
            " 5   Location           22770 non-null  object \n",
            " 6   Employment Status  22770 non-null  object \n",
            " 7   Job Roles          22770 non-null  object \n",
            "dtypes: float64(1), int64(2), object(5)\n",
            "memory usage: 1.4+ MB\n"
          ]
        }
      ]
    },
    {
      "cell_type": "code",
      "source": [
        "data"
      ],
      "metadata": {
        "colab": {
          "base_uri": "https://localhost:8080/",
          "height": 423
        },
        "id": "wgiptQ0PtRzy",
        "outputId": "a6ec921b-d7db-4f5d-d200-d3baad61c62f"
      },
      "execution_count": 169,
      "outputs": [
        {
          "output_type": "execute_result",
          "data": {
            "text/plain": [
              "       Rating                      Company Name                 Job Title  \\\n",
              "0         3.8                            Sasken         Android Developer   \n",
              "1         4.5  Advanced Millennium Technologies         Android Developer   \n",
              "2         4.0                         Unacademy         Android Developer   \n",
              "3         3.8                SnapBizz Cloudtech         Android Developer   \n",
              "4         4.4            Appoids Tech Solutions         Android Developer   \n",
              "...       ...                               ...                       ...   \n",
              "22765     4.7                  Expert Solutions             Web Developer   \n",
              "22766     4.0           Nextgen Innovation Labs             Web Developer   \n",
              "22767     4.1                           Fresher  Full Stack Web Developer   \n",
              "22768     4.1                         Accenture  Full Stack Web Developer   \n",
              "22769     3.8                   Thomson Reuters   Associate Web Developer   \n",
              "\n",
              "        Salary  Salaries Reported   Location Employment Status Job Roles  \n",
              "0       400000                  3  Bangalore         Full Time   Android  \n",
              "1       400000                  3  Bangalore         Full Time   Android  \n",
              "2      1000000                  3  Bangalore         Full Time   Android  \n",
              "3       300000                  3  Bangalore         Full Time   Android  \n",
              "4       600000                  3  Bangalore         Full Time   Android  \n",
              "...        ...                ...        ...               ...       ...  \n",
              "22765   200000                  1  Bangalore         Full Time       Web  \n",
              "22766   300000                  1  Bangalore         Full Time       Web  \n",
              "22767   192000                 13  Bangalore         Full Time       Web  \n",
              "22768   300000                  7  Bangalore         Full Time       Web  \n",
              "22769   300000                  7  Bangalore         Full Time       Web  \n",
              "\n",
              "[22770 rows x 8 columns]"
            ],
            "text/html": [
              "\n",
              "  <div id=\"df-6cfb789b-7de2-4013-8c7b-8fba420b8860\">\n",
              "    <div class=\"colab-df-container\">\n",
              "      <div>\n",
              "<style scoped>\n",
              "    .dataframe tbody tr th:only-of-type {\n",
              "        vertical-align: middle;\n",
              "    }\n",
              "\n",
              "    .dataframe tbody tr th {\n",
              "        vertical-align: top;\n",
              "    }\n",
              "\n",
              "    .dataframe thead th {\n",
              "        text-align: right;\n",
              "    }\n",
              "</style>\n",
              "<table border=\"1\" class=\"dataframe\">\n",
              "  <thead>\n",
              "    <tr style=\"text-align: right;\">\n",
              "      <th></th>\n",
              "      <th>Rating</th>\n",
              "      <th>Company Name</th>\n",
              "      <th>Job Title</th>\n",
              "      <th>Salary</th>\n",
              "      <th>Salaries Reported</th>\n",
              "      <th>Location</th>\n",
              "      <th>Employment Status</th>\n",
              "      <th>Job Roles</th>\n",
              "    </tr>\n",
              "  </thead>\n",
              "  <tbody>\n",
              "    <tr>\n",
              "      <th>0</th>\n",
              "      <td>3.8</td>\n",
              "      <td>Sasken</td>\n",
              "      <td>Android Developer</td>\n",
              "      <td>400000</td>\n",
              "      <td>3</td>\n",
              "      <td>Bangalore</td>\n",
              "      <td>Full Time</td>\n",
              "      <td>Android</td>\n",
              "    </tr>\n",
              "    <tr>\n",
              "      <th>1</th>\n",
              "      <td>4.5</td>\n",
              "      <td>Advanced Millennium Technologies</td>\n",
              "      <td>Android Developer</td>\n",
              "      <td>400000</td>\n",
              "      <td>3</td>\n",
              "      <td>Bangalore</td>\n",
              "      <td>Full Time</td>\n",
              "      <td>Android</td>\n",
              "    </tr>\n",
              "    <tr>\n",
              "      <th>2</th>\n",
              "      <td>4.0</td>\n",
              "      <td>Unacademy</td>\n",
              "      <td>Android Developer</td>\n",
              "      <td>1000000</td>\n",
              "      <td>3</td>\n",
              "      <td>Bangalore</td>\n",
              "      <td>Full Time</td>\n",
              "      <td>Android</td>\n",
              "    </tr>\n",
              "    <tr>\n",
              "      <th>3</th>\n",
              "      <td>3.8</td>\n",
              "      <td>SnapBizz Cloudtech</td>\n",
              "      <td>Android Developer</td>\n",
              "      <td>300000</td>\n",
              "      <td>3</td>\n",
              "      <td>Bangalore</td>\n",
              "      <td>Full Time</td>\n",
              "      <td>Android</td>\n",
              "    </tr>\n",
              "    <tr>\n",
              "      <th>4</th>\n",
              "      <td>4.4</td>\n",
              "      <td>Appoids Tech Solutions</td>\n",
              "      <td>Android Developer</td>\n",
              "      <td>600000</td>\n",
              "      <td>3</td>\n",
              "      <td>Bangalore</td>\n",
              "      <td>Full Time</td>\n",
              "      <td>Android</td>\n",
              "    </tr>\n",
              "    <tr>\n",
              "      <th>...</th>\n",
              "      <td>...</td>\n",
              "      <td>...</td>\n",
              "      <td>...</td>\n",
              "      <td>...</td>\n",
              "      <td>...</td>\n",
              "      <td>...</td>\n",
              "      <td>...</td>\n",
              "      <td>...</td>\n",
              "    </tr>\n",
              "    <tr>\n",
              "      <th>22765</th>\n",
              "      <td>4.7</td>\n",
              "      <td>Expert Solutions</td>\n",
              "      <td>Web Developer</td>\n",
              "      <td>200000</td>\n",
              "      <td>1</td>\n",
              "      <td>Bangalore</td>\n",
              "      <td>Full Time</td>\n",
              "      <td>Web</td>\n",
              "    </tr>\n",
              "    <tr>\n",
              "      <th>22766</th>\n",
              "      <td>4.0</td>\n",
              "      <td>Nextgen Innovation Labs</td>\n",
              "      <td>Web Developer</td>\n",
              "      <td>300000</td>\n",
              "      <td>1</td>\n",
              "      <td>Bangalore</td>\n",
              "      <td>Full Time</td>\n",
              "      <td>Web</td>\n",
              "    </tr>\n",
              "    <tr>\n",
              "      <th>22767</th>\n",
              "      <td>4.1</td>\n",
              "      <td>Fresher</td>\n",
              "      <td>Full Stack Web Developer</td>\n",
              "      <td>192000</td>\n",
              "      <td>13</td>\n",
              "      <td>Bangalore</td>\n",
              "      <td>Full Time</td>\n",
              "      <td>Web</td>\n",
              "    </tr>\n",
              "    <tr>\n",
              "      <th>22768</th>\n",
              "      <td>4.1</td>\n",
              "      <td>Accenture</td>\n",
              "      <td>Full Stack Web Developer</td>\n",
              "      <td>300000</td>\n",
              "      <td>7</td>\n",
              "      <td>Bangalore</td>\n",
              "      <td>Full Time</td>\n",
              "      <td>Web</td>\n",
              "    </tr>\n",
              "    <tr>\n",
              "      <th>22769</th>\n",
              "      <td>3.8</td>\n",
              "      <td>Thomson Reuters</td>\n",
              "      <td>Associate Web Developer</td>\n",
              "      <td>300000</td>\n",
              "      <td>7</td>\n",
              "      <td>Bangalore</td>\n",
              "      <td>Full Time</td>\n",
              "      <td>Web</td>\n",
              "    </tr>\n",
              "  </tbody>\n",
              "</table>\n",
              "<p>22770 rows × 8 columns</p>\n",
              "</div>\n",
              "      <button class=\"colab-df-convert\" onclick=\"convertToInteractive('df-6cfb789b-7de2-4013-8c7b-8fba420b8860')\"\n",
              "              title=\"Convert this dataframe to an interactive table.\"\n",
              "              style=\"display:none;\">\n",
              "        \n",
              "  <svg xmlns=\"http://www.w3.org/2000/svg\" height=\"24px\"viewBox=\"0 0 24 24\"\n",
              "       width=\"24px\">\n",
              "    <path d=\"M0 0h24v24H0V0z\" fill=\"none\"/>\n",
              "    <path d=\"M18.56 5.44l.94 2.06.94-2.06 2.06-.94-2.06-.94-.94-2.06-.94 2.06-2.06.94zm-11 1L8.5 8.5l.94-2.06 2.06-.94-2.06-.94L8.5 2.5l-.94 2.06-2.06.94zm10 10l.94 2.06.94-2.06 2.06-.94-2.06-.94-.94-2.06-.94 2.06-2.06.94z\"/><path d=\"M17.41 7.96l-1.37-1.37c-.4-.4-.92-.59-1.43-.59-.52 0-1.04.2-1.43.59L10.3 9.45l-7.72 7.72c-.78.78-.78 2.05 0 2.83L4 21.41c.39.39.9.59 1.41.59.51 0 1.02-.2 1.41-.59l7.78-7.78 2.81-2.81c.8-.78.8-2.07 0-2.86zM5.41 20L4 18.59l7.72-7.72 1.47 1.35L5.41 20z\"/>\n",
              "  </svg>\n",
              "      </button>\n",
              "      \n",
              "  <style>\n",
              "    .colab-df-container {\n",
              "      display:flex;\n",
              "      flex-wrap:wrap;\n",
              "      gap: 12px;\n",
              "    }\n",
              "\n",
              "    .colab-df-convert {\n",
              "      background-color: #E8F0FE;\n",
              "      border: none;\n",
              "      border-radius: 50%;\n",
              "      cursor: pointer;\n",
              "      display: none;\n",
              "      fill: #1967D2;\n",
              "      height: 32px;\n",
              "      padding: 0 0 0 0;\n",
              "      width: 32px;\n",
              "    }\n",
              "\n",
              "    .colab-df-convert:hover {\n",
              "      background-color: #E2EBFA;\n",
              "      box-shadow: 0px 1px 2px rgba(60, 64, 67, 0.3), 0px 1px 3px 1px rgba(60, 64, 67, 0.15);\n",
              "      fill: #174EA6;\n",
              "    }\n",
              "\n",
              "    [theme=dark] .colab-df-convert {\n",
              "      background-color: #3B4455;\n",
              "      fill: #D2E3FC;\n",
              "    }\n",
              "\n",
              "    [theme=dark] .colab-df-convert:hover {\n",
              "      background-color: #434B5C;\n",
              "      box-shadow: 0px 1px 3px 1px rgba(0, 0, 0, 0.15);\n",
              "      filter: drop-shadow(0px 1px 2px rgba(0, 0, 0, 0.3));\n",
              "      fill: #FFFFFF;\n",
              "    }\n",
              "  </style>\n",
              "\n",
              "      <script>\n",
              "        const buttonEl =\n",
              "          document.querySelector('#df-6cfb789b-7de2-4013-8c7b-8fba420b8860 button.colab-df-convert');\n",
              "        buttonEl.style.display =\n",
              "          google.colab.kernel.accessAllowed ? 'block' : 'none';\n",
              "\n",
              "        async function convertToInteractive(key) {\n",
              "          const element = document.querySelector('#df-6cfb789b-7de2-4013-8c7b-8fba420b8860');\n",
              "          const dataTable =\n",
              "            await google.colab.kernel.invokeFunction('convertToInteractive',\n",
              "                                                     [key], {});\n",
              "          if (!dataTable) return;\n",
              "\n",
              "          const docLinkHtml = 'Like what you see? Visit the ' +\n",
              "            '<a target=\"_blank\" href=https://colab.research.google.com/notebooks/data_table.ipynb>data table notebook</a>'\n",
              "            + ' to learn more about interactive tables.';\n",
              "          element.innerHTML = '';\n",
              "          dataTable['output_type'] = 'display_data';\n",
              "          await google.colab.output.renderOutput(dataTable, element);\n",
              "          const docLink = document.createElement('div');\n",
              "          docLink.innerHTML = docLinkHtml;\n",
              "          element.appendChild(docLink);\n",
              "        }\n",
              "      </script>\n",
              "    </div>\n",
              "  </div>\n",
              "  "
            ]
          },
          "metadata": {},
          "execution_count": 169
        }
      ]
    },
    {
      "cell_type": "code",
      "source": [
        "for i in data.columns:\n",
        "  if data[i].dtype == 'object':\n",
        "    print(i, data[i].nunique(),data[i].unique())\n",
        "    print()"
      ],
      "metadata": {
        "colab": {
          "base_uri": "https://localhost:8080/"
        },
        "id": "QtZiaxjBsb1d",
        "outputId": "8a08f55d-73b2-4db4-b9c7-4012b1f26e27"
      },
      "execution_count": 178,
      "outputs": [
        {
          "output_type": "stream",
          "name": "stdout",
          "text": [
            "Company Name 11261 ['Sasken' 'Advanced Millennium Technologies' 'Unacademy' ...\n",
            " 'Unicon Systems' 'Expert Solutions' 'Nextgen Innovation Labs']\n",
            "\n",
            "Job Title 1080 ['Android Developer' 'Android Developer - Intern'\n",
            " 'Android Developer - Contractor' ... 'Web Developer Contractor'\n",
            " 'Full Stack Web Developer' 'Associate Web Developer']\n",
            "\n",
            "Location 10 ['Bangalore' 'Chennai' 'Hyderabad' 'New Delhi' 'Pune' 'Jaipur' 'Kerala'\n",
            " 'Kolkata' 'Madhya Pradesh' 'Mumbai']\n",
            "\n",
            "Employment Status 4 ['Full Time' 'Intern' 'Contractor' 'Trainee']\n",
            "\n",
            "Job Roles 11 ['Android' 'Backend' 'Database' 'Frontend' 'IOS' 'Java' 'Mobile' 'SDE'\n",
            " 'Python' 'Web' 'Testing']\n",
            "\n"
          ]
        }
      ]
    },
    {
      "cell_type": "code",
      "source": [
        "data['Location'].value_counts().plot(\n",
        "    kind='bar'\n",
        ")"
      ],
      "metadata": {
        "colab": {
          "base_uri": "https://localhost:8080/",
          "height": 356
        },
        "id": "alViM3MwuGxb",
        "outputId": "2181515d-a4ff-48b7-a99f-9a573ac2e9c6"
      },
      "execution_count": 179,
      "outputs": [
        {
          "output_type": "execute_result",
          "data": {
            "text/plain": [
              "<matplotlib.axes._subplots.AxesSubplot at 0x7f99847cc110>"
            ]
          },
          "metadata": {},
          "execution_count": 179
        },
        {
          "output_type": "display_data",
          "data": {
            "text/plain": [
              "<Figure size 432x288 with 1 Axes>"
            ],
            "image/png": "[encoded data removed]"
          },
          "metadata": {
            "needs_background": "light"
          }
        }
      ]
    },
    {
      "cell_type": "code",
      "source": [
        "data['Employment Status'].value_counts().plot(\n",
        "    kind='bar'\n",
        ")"
      ],
      "metadata": {
        "colab": {
          "base_uri": "https://localhost:8080/",
          "height": 326
        },
        "id": "IROWKSgIuOQR",
        "outputId": "8c0e82d1-ef0f-4743-a190-127515f93669"
      },
      "execution_count": 180,
      "outputs": [
        {
          "output_type": "execute_result",
          "data": {
            "text/plain": [
              "<matplotlib.axes._subplots.AxesSubplot at 0x7f9970196b10>"
            ]
          },
          "metadata": {},
          "execution_count": 180
        },
        {
          "output_type": "display_data",
          "data": {
            "text/plain": [
              "<Figure size 432x288 with 1 Axes>"
            ],
            "image/png": "[encoded data removed]"
          },
          "metadata": {
            "needs_background": "light"
          }
        }
      ]
    },
    {
      "cell_type": "code",
      "source": [
        "data['Job Roles'].value_counts().plot(\n",
        "    kind='bar'\n",
        ")"
      ],
      "metadata": {
        "colab": {
          "base_uri": "https://localhost:8080/",
          "height": 321
        },
        "id": "-AvxDEbuuRzP",
        "outputId": "1c80b083-bcab-4032-f3b6-da5c6a82ed3d"
      },
      "execution_count": 181,
      "outputs": [
        {
          "output_type": "execute_result",
          "data": {
            "text/plain": [
              "<matplotlib.axes._subplots.AxesSubplot at 0x7f9970118350>"
            ]
          },
          "metadata": {},
          "execution_count": 181
        },
        {
          "output_type": "display_data",
          "data": {
            "text/plain": [
              "<Figure size 432x288 with 1 Axes>"
            ],
            "image/png": "[encoded data removed]"
          },
          "metadata": {
            "needs_background": "light"
          }
        }
      ]
    },
    {
      "cell_type": "code",
      "source": [
        "def q1(x):\n",
        "    return x.quantile(0.25)\n",
        "\n",
        "# 90th Percentile\n",
        "def q3(x):\n",
        "    return x.quantile(0.75)"
      ],
      "metadata": {
        "id": "nW93BhS80VoS"
      },
      "execution_count": 217,
      "outputs": []
    },
    {
      "cell_type": "code",
      "source": [
        "quantiles = data.groupby('Job Roles').agg(\n",
        "    Q1=('Salary',q1),\n",
        "    Q3=('Salary',q3),\n",
        "    max=('Salary',np.max),\n",
        "    min = ('Salary',np.min)\n",
        ")"
      ],
      "metadata": {
        "id": "-T8vihgfzSM7"
      },
      "execution_count": 222,
      "outputs": []
    },
    {
      "cell_type": "code",
      "source": [
        "quantiles['IQL'] = quantiles['Q3']-quantiles['Q1']"
      ],
      "metadata": {
        "id": "gR_hCHdPw-cr"
      },
      "execution_count": 224,
      "outputs": []
    },
    {
      "cell_type": "code",
      "source": [
        "quantiles['Range'] = quantiles['max']-quantiles['min']"
      ],
      "metadata": {
        "id": "EKVK04970x2S"
      },
      "execution_count": 226,
      "outputs": []
    },
    {
      "cell_type": "code",
      "source": [
        "quantiles"
      ],
      "metadata": {
        "colab": {
          "base_uri": "https://localhost:8080/",
          "height": 425
        },
        "id": "MnFXLnMIxC8W",
        "outputId": "fa3fa00d-4b5a-4cae-8ab5-5ff4ba5b1ca7"
      },
      "execution_count": 229,
      "outputs": [
        {
          "output_type": "execute_result",
          "data": {
            "text/plain": [
              "                 Q1         Q3       max     min       IQL     Range\n",
              "Job Roles                                                           \n",
              "Android    252000.0   700000.0   7100000   12000  448000.0   7088000\n",
              "Backend    255000.0  1000000.0   5200000   24000  745000.0   5176000\n",
              "Database   500000.0  1200000.0  10000000  100000  700000.0   9900000\n",
              "Frontend   252000.0   800000.0  10000000   12000  548000.0   9988000\n",
              "IOS        336000.0   900000.0   5200000   12000  564000.0   5188000\n",
              "Java       252000.0   700000.0  10000000    8448  448000.0   9991552\n",
              "Mobile     300000.0  1056000.0   9600000   60000  756000.0   9540000\n",
              "Python     228000.0   600000.0   6900000   24000  372000.0   6876000\n",
              "SDE        384000.0  1100000.0  90000000   12000  716000.0  89988000\n",
              "Testing    288000.0   600000.0   6600000   12672  312000.0   6587328\n",
              "Web        200000.0   500000.0   4400000    2112  300000.0   4397888"
            ],
            "text/html": [
              "\n",
              "  <div id=\"df-e592ab1b-9ccf-4669-ad97-fe0e75380cb6\">\n",
              "    <div class=\"colab-df-container\">\n",
              "      <div>\n",
              "<style scoped>\n",
              "    .dataframe tbody tr th:only-of-type {\n",
              "        vertical-align: middle;\n",
              "    }\n",
              "\n",
              "    .dataframe tbody tr th {\n",
              "        vertical-align: top;\n",
              "    }\n",
              "\n",
              "    .dataframe thead th {\n",
              "        text-align: right;\n",
              "    }\n",
              "</style>\n",
              "<table border=\"1\" class=\"dataframe\">\n",
              "  <thead>\n",
              "    <tr style=\"text-align: right;\">\n",
              "      <th></th>\n",
              "      <th>Q1</th>\n",
              "      <th>Q3</th>\n",
              "      <th>max</th>\n",
              "      <th>min</th>\n",
              "      <th>IQL</th>\n",
              "      <th>Range</th>\n",
              "    </tr>\n",
              "    <tr>\n",
              "      <th>Job Roles</th>\n",
              "      <th></th>\n",
              "      <th></th>\n",
              "      <th></th>\n",
              "      <th></th>\n",
              "      <th></th>\n",
              "      <th></th>\n",
              "    </tr>\n",
              "  </thead>\n",
              "  <tbody>\n",
              "    <tr>\n",
              "      <th>Android</th>\n",
              "      <td>252000.0</td>\n",
              "      <td>700000.0</td>\n",
              "      <td>7100000</td>\n",
              "      <td>12000</td>\n",
              "      <td>448000.0</td>\n",
              "      <td>7088000</td>\n",
              "    </tr>\n",
              "    <tr>\n",
              "      <th>Backend</th>\n",
              "      <td>255000.0</td>\n",
              "      <td>1000000.0</td>\n",
              "      <td>5200000</td>\n",
              "      <td>24000</td>\n",
              "      <td>745000.0</td>\n",
              "      <td>5176000</td>\n",
              "    </tr>\n",
              "    <tr>\n",
              "      <th>Database</th>\n",
              "      <td>500000.0</td>\n",
              "      <td>1200000.0</td>\n",
              "      <td>10000000</td>\n",
              "      <td>100000</td>\n",
              "      <td>700000.0</td>\n",
              "      <td>9900000</td>\n",
              "    </tr>\n",
              "    <tr>\n",
              "      <th>Frontend</th>\n",
              "      <td>252000.0</td>\n",
              "      <td>800000.0</td>\n",
              "      <td>10000000</td>\n",
              "      <td>12000</td>\n",
              "      <td>548000.0</td>\n",
              "      <td>9988000</td>\n",
              "    </tr>\n",
              "    <tr>\n",
              "      <th>IOS</th>\n",
              "      <td>336000.0</td>\n",
              "      <td>900000.0</td>\n",
              "      <td>5200000</td>\n",
              "      <td>12000</td>\n",
              "      <td>564000.0</td>\n",
              "      <td>5188000</td>\n",
              "    </tr>\n",
              "    <tr>\n",
              "      <th>Java</th>\n",
              "      <td>252000.0</td>\n",
              "      <td>700000.0</td>\n",
              "      <td>10000000</td>\n",
              "      <td>8448</td>\n",
              "      <td>448000.0</td>\n",
              "      <td>9991552</td>\n",
              "    </tr>\n",
              "    <tr>\n",
              "      <th>Mobile</th>\n",
              "      <td>300000.0</td>\n",
              "      <td>1056000.0</td>\n",
              "      <td>9600000</td>\n",
              "      <td>60000</td>\n",
              "      <td>756000.0</td>\n",
              "      <td>9540000</td>\n",
              "    </tr>\n",
              "    <tr>\n",
              "      <th>Python</th>\n",
              "      <td>228000.0</td>\n",
              "      <td>600000.0</td>\n",
              "      <td>6900000</td>\n",
              "      <td>24000</td>\n",
              "      <td>372000.0</td>\n",
              "      <td>6876000</td>\n",
              "    </tr>\n",
              "    <tr>\n",
              "      <th>SDE</th>\n",
              "      <td>384000.0</td>\n",
              "      <td>1100000.0</td>\n",
              "      <td>90000000</td>\n",
              "      <td>12000</td>\n",
              "      <td>716000.0</td>\n",
              "      <td>89988000</td>\n",
              "    </tr>\n",
              "    <tr>\n",
              "      <th>Testing</th>\n",
              "      <td>288000.0</td>\n",
              "      <td>600000.0</td>\n",
              "      <td>6600000</td>\n",
              "      <td>12672</td>\n",
              "      <td>312000.0</td>\n",
              "      <td>6587328</td>\n",
              "    </tr>\n",
              "    <tr>\n",
              "      <th>Web</th>\n",
              "      <td>200000.0</td>\n",
              "      <td>500000.0</td>\n",
              "      <td>4400000</td>\n",
              "      <td>2112</td>\n",
              "      <td>300000.0</td>\n",
              "      <td>4397888</td>\n",
              "    </tr>\n",
              "  </tbody>\n",
              "</table>\n",
              "</div>\n",
              "      <button class=\"colab-df-convert\" onclick=\"convertToInteractive('df-e592ab1b-9ccf-4669-ad97-fe0e75380cb6')\"\n",
              "              title=\"Convert this dataframe to an interactive table.\"\n",
              "              style=\"display:none;\">\n",
              "        \n",
              "  <svg xmlns=\"http://www.w3.org/2000/svg\" height=\"24px\"viewBox=\"0 0 24 24\"\n",
              "       width=\"24px\">\n",
              "    <path d=\"M0 0h24v24H0V0z\" fill=\"none\"/>\n",
              "    <path d=\"M18.56 5.44l.94 2.06.94-2.06 2.06-.94-2.06-.94-.94-2.06-.94 2.06-2.06.94zm-11 1L8.5 8.5l.94-2.06 2.06-.94-2.06-.94L8.5 2.5l-.94 2.06-2.06.94zm10 10l.94 2.06.94-2.06 2.06-.94-2.06-.94-.94-2.06-.94 2.06-2.06.94z\"/><path d=\"M17.41 7.96l-1.37-1.37c-.4-.4-.92-.59-1.43-.59-.52 0-1.04.2-1.43.59L10.3 9.45l-7.72 7.72c-.78.78-.78 2.05 0 2.83L4 21.41c.39.39.9.59 1.41.59.51 0 1.02-.2 1.41-.59l7.78-7.78 2.81-2.81c.8-.78.8-2.07 0-2.86zM5.41 20L4 18.59l7.72-7.72 1.47 1.35L5.41 20z\"/>\n",
              "  </svg>\n",
              "      </button>\n",
              "      \n",
              "  <style>\n",
              "    .colab-df-container {\n",
              "      display:flex;\n",
              "      flex-wrap:wrap;\n",
              "      gap: 12px;\n",
              "    }\n",
              "\n",
              "    .colab-df-convert {\n",
              "      background-color: #E8F0FE;\n",
              "      border: none;\n",
              "      border-radius: 50%;\n",
              "      cursor: pointer;\n",
              "      display: none;\n",
              "      fill: #1967D2;\n",
              "      height: 32px;\n",
              "      padding: 0 0 0 0;\n",
              "      width: 32px;\n",
              "    }\n",
              "\n",
              "    .colab-df-convert:hover {\n",
              "      background-color: #E2EBFA;\n",
              "      box-shadow: 0px 1px 2px rgba(60, 64, 67, 0.3), 0px 1px 3px 1px rgba(60, 64, 67, 0.15);\n",
              "      fill: #174EA6;\n",
              "    }\n",
              "\n",
              "    [theme=dark] .colab-df-convert {\n",
              "      background-color: #3B4455;\n",
              "      fill: #D2E3FC;\n",
              "    }\n",
              "\n",
              "    [theme=dark] .colab-df-convert:hover {\n",
              "      background-color: #434B5C;\n",
              "      box-shadow: 0px 1px 3px 1px rgba(0, 0, 0, 0.15);\n",
              "      filter: drop-shadow(0px 1px 2px rgba(0, 0, 0, 0.3));\n",
              "      fill: #FFFFFF;\n",
              "    }\n",
              "  </style>\n",
              "\n",
              "      <script>\n",
              "        const buttonEl =\n",
              "          document.querySelector('#df-e592ab1b-9ccf-4669-ad97-fe0e75380cb6 button.colab-df-convert');\n",
              "        buttonEl.style.display =\n",
              "          google.colab.kernel.accessAllowed ? 'block' : 'none';\n",
              "\n",
              "        async function convertToInteractive(key) {\n",
              "          const element = document.querySelector('#df-e592ab1b-9ccf-4669-ad97-fe0e75380cb6');\n",
              "          const dataTable =\n",
              "            await google.colab.kernel.invokeFunction('convertToInteractive',\n",
              "                                                     [key], {});\n",
              "          if (!dataTable) return;\n",
              "\n",
              "          const docLinkHtml = 'Like what you see? Visit the ' +\n",
              "            '<a target=\"_blank\" href=https://colab.research.google.com/notebooks/data_table.ipynb>data table notebook</a>'\n",
              "            + ' to learn more about interactive tables.';\n",
              "          element.innerHTML = '';\n",
              "          dataTable['output_type'] = 'display_data';\n",
              "          await google.colab.output.renderOutput(dataTable, element);\n",
              "          const docLink = document.createElement('div');\n",
              "          docLink.innerHTML = docLinkHtml;\n",
              "          element.appendChild(docLink);\n",
              "        }\n",
              "      </script>\n",
              "    </div>\n",
              "  </div>\n",
              "  "
            ]
          },
          "metadata": {},
          "execution_count": 229
        }
      ]
    },
    {
      "cell_type": "code",
      "source": [
        "quantiles.plot(\n",
        "    kind='bar',\n",
        "    y=['Q1','Q3','IQL','Range']\n",
        ")"
      ],
      "metadata": {
        "colab": {
          "base_uri": "https://localhost:8080/",
          "height": 346
        },
        "id": "jgiciT34xdYL",
        "outputId": "d9bd850e-a454-4808-a1e0-5a628aa6a019"
      },
      "execution_count": 227,
      "outputs": [
        {
          "output_type": "execute_result",
          "data": {
            "text/plain": [
              "<matplotlib.axes._subplots.AxesSubplot at 0x7f994de60610>"
            ]
          },
          "metadata": {},
          "execution_count": 227
        },
        {
          "output_type": "display_data",
          "data": {
            "text/plain": [
              "<Figure size 432x288 with 1 Axes>"
            ],
            "image/png": "[encoded data removed]"
          },
          "metadata": {
            "needs_background": "light"
          }
        }
      ]
    },
    {
      "cell_type": "code",
      "source": [
        "quantiles.plot(\n",
        "    kind='bar',\n",
        "    y=['Q1','Q3','IQL']\n",
        ")"
      ],
      "metadata": {
        "colab": {
          "base_uri": "https://localhost:8080/",
          "height": 346
        },
        "id": "bA8FLHED04hZ",
        "outputId": "80ceb790-18ba-4960-a7c1-9c194f388055"
      },
      "execution_count": 228,
      "outputs": [
        {
          "output_type": "execute_result",
          "data": {
            "text/plain": [
              "<matplotlib.axes._subplots.AxesSubplot at 0x7f994e1f7cd0>"
            ]
          },
          "metadata": {},
          "execution_count": 228
        },
        {
          "output_type": "display_data",
          "data": {
            "text/plain": [
              "<Figure size 432x288 with 1 Axes>"
            ],
            "image/png": "[encoded data removed]"
          },
          "metadata": {
            "needs_background": "light"
          }
        }
      ]
    },
    {
      "cell_type": "markdown",
      "source": [
        "pada SDE terlihat nilai max nya terlalu jauh kemungkinan karna salah ketik maka perlu di bersihkan, iter 2"
      ],
      "metadata": {
        "id": "_gdix_ic1cU0"
      }
    },
    {
      "cell_type": "code",
      "source": [
        "data.drop(data[data['Salary']==data['Salary'].max()].index,inplace=True)"
      ],
      "metadata": {
        "id": "us5iVEM51zHu"
      },
      "execution_count": 252,
      "outputs": []
    },
    {
      "cell_type": "code",
      "source": [
        "data.reset_index(drop=True,inplace=True)"
      ],
      "metadata": {
        "id": "9SfSGq0N2i6j"
      },
      "execution_count": 254,
      "outputs": []
    },
    {
      "cell_type": "code",
      "source": [
        "quantiles = data.groupby('Job Roles').agg(\n",
        "    Q1=('Salary',q1),\n",
        "    Q3=('Salary',q3),\n",
        "    max=('Salary',np.max),\n",
        "    min = ('Salary',np.min)\n",
        ")"
      ],
      "metadata": {
        "id": "YIOrAzLn1olV"
      },
      "execution_count": 257,
      "outputs": []
    },
    {
      "cell_type": "code",
      "source": [
        "quantiles['IQL'] = quantiles['Q3']-quantiles['Q1']"
      ],
      "metadata": {
        "id": "pvSUEZZv1olV"
      },
      "execution_count": 258,
      "outputs": []
    },
    {
      "cell_type": "code",
      "source": [
        "quantiles['Range'] = quantiles['max']-quantiles['min']"
      ],
      "metadata": {
        "id": "6fOsA1Gy1olW"
      },
      "execution_count": 259,
      "outputs": []
    },
    {
      "cell_type": "code",
      "source": [
        "quantiles"
      ],
      "metadata": {
        "colab": {
          "base_uri": "https://localhost:8080/",
          "height": 425
        },
        "outputId": "6181ef17-c649-4977-f32c-379785898438",
        "id": "ccx3hvF81olW"
      },
      "execution_count": 260,
      "outputs": [
        {
          "output_type": "execute_result",
          "data": {
            "text/plain": [
              "                 Q1         Q3       max     min       IQL    Range\n",
              "Job Roles                                                          \n",
              "Android    252000.0   700000.0   7100000   12000  448000.0  7088000\n",
              "Backend    255000.0  1000000.0   5200000   24000  745000.0  5176000\n",
              "Database   500000.0  1200000.0  10000000  100000  700000.0  9900000\n",
              "Frontend   252000.0   800000.0  10000000   12000  548000.0  9988000\n",
              "IOS        336000.0   900000.0   5200000   12000  564000.0  5188000\n",
              "Java       252000.0   700000.0  10000000    8448  448000.0  9991552\n",
              "Mobile     300000.0  1056000.0   9600000   60000  756000.0  9540000\n",
              "Python     228000.0   600000.0   6900000   24000  372000.0  6876000\n",
              "SDE        384000.0  1100000.0   9850000   12000  716000.0  9838000\n",
              "Testing    288000.0   600000.0   6600000   12672  312000.0  6587328\n",
              "Web        200000.0   500000.0   4400000    2112  300000.0  4397888"
            ],
            "text/html": [
              "\n",
              "  <div id=\"df-58104457-8085-4dec-a5e3-5524cb5e625d\">\n",
              "    <div class=\"colab-df-container\">\n",
              "      <div>\n",
              "<style scoped>\n",
              "    .dataframe tbody tr th:only-of-type {\n",
              "        vertical-align: middle;\n",
              "    }\n",
              "\n",
              "    .dataframe tbody tr th {\n",
              "        vertical-align: top;\n",
              "    }\n",
              "\n",
              "    .dataframe thead th {\n",
              "        text-align: right;\n",
              "    }\n",
              "</style>\n",
              "<table border=\"1\" class=\"dataframe\">\n",
              "  <thead>\n",
              "    <tr style=\"text-align: right;\">\n",
              "      <th></th>\n",
              "      <th>Q1</th>\n",
              "      <th>Q3</th>\n",
              "      <th>max</th>\n",
              "      <th>min</th>\n",
              "      <th>IQL</th>\n",
              "      <th>Range</th>\n",
              "    </tr>\n",
              "    <tr>\n",
              "      <th>Job Roles</th>\n",
              "      <th></th>\n",
              "      <th></th>\n",
              "      <th></th>\n",
              "      <th></th>\n",
              "      <th></th>\n",
              "      <th></th>\n",
              "    </tr>\n",
              "  </thead>\n",
              "  <tbody>\n",
              "    <tr>\n",
              "      <th>Android</th>\n",
              "      <td>252000.0</td>\n",
              "      <td>700000.0</td>\n",
              "      <td>7100000</td>\n",
              "      <td>12000</td>\n",
              "      <td>448000.0</td>\n",
              "      <td>7088000</td>\n",
              "    </tr>\n",
              "    <tr>\n",
              "      <th>Backend</th>\n",
              "      <td>255000.0</td>\n",
              "      <td>1000000.0</td>\n",
              "      <td>5200000</td>\n",
              "      <td>24000</td>\n",
              "      <td>745000.0</td>\n",
              "      <td>5176000</td>\n",
              "    </tr>\n",
              "    <tr>\n",
              "      <th>Database</th>\n",
              "      <td>500000.0</td>\n",
              "      <td>1200000.0</td>\n",
              "      <td>10000000</td>\n",
              "      <td>100000</td>\n",
              "      <td>700000.0</td>\n",
              "      <td>9900000</td>\n",
              "    </tr>\n",
              "    <tr>\n",
              "      <th>Frontend</th>\n",
              "      <td>252000.0</td>\n",
              "      <td>800000.0</td>\n",
              "      <td>10000000</td>\n",
              "      <td>12000</td>\n",
              "      <td>548000.0</td>\n",
              "      <td>9988000</td>\n",
              "    </tr>\n",
              "    <tr>\n",
              "      <th>IOS</th>\n",
              "      <td>336000.0</td>\n",
              "      <td>900000.0</td>\n",
              "      <td>5200000</td>\n",
              "      <td>12000</td>\n",
              "      <td>564000.0</td>\n",
              "      <td>5188000</td>\n",
              "    </tr>\n",
              "    <tr>\n",
              "      <th>Java</th>\n",
              "      <td>252000.0</td>\n",
              "      <td>700000.0</td>\n",
              "      <td>10000000</td>\n",
              "      <td>8448</td>\n",
              "      <td>448000.0</td>\n",
              "      <td>9991552</td>\n",
              "    </tr>\n",
              "    <tr>\n",
              "      <th>Mobile</th>\n",
              "      <td>300000.0</td>\n",
              "      <td>1056000.0</td>\n",
              "      <td>9600000</td>\n",
              "      <td>60000</td>\n",
              "      <td>756000.0</td>\n",
              "      <td>9540000</td>\n",
              "    </tr>\n",
              "    <tr>\n",
              "      <th>Python</th>\n",
              "      <td>228000.0</td>\n",
              "      <td>600000.0</td>\n",
              "      <td>6900000</td>\n",
              "      <td>24000</td>\n",
              "      <td>372000.0</td>\n",
              "      <td>6876000</td>\n",
              "    </tr>\n",
              "    <tr>\n",
              "      <th>SDE</th>\n",
              "      <td>384000.0</td>\n",
              "      <td>1100000.0</td>\n",
              "      <td>9850000</td>\n",
              "      <td>12000</td>\n",
              "      <td>716000.0</td>\n",
              "      <td>9838000</td>\n",
              "    </tr>\n",
              "    <tr>\n",
              "      <th>Testing</th>\n",
              "      <td>288000.0</td>\n",
              "      <td>600000.0</td>\n",
              "      <td>6600000</td>\n",
              "      <td>12672</td>\n",
              "      <td>312000.0</td>\n",
              "      <td>6587328</td>\n",
              "    </tr>\n",
              "    <tr>\n",
              "      <th>Web</th>\n",
              "      <td>200000.0</td>\n",
              "      <td>500000.0</td>\n",
              "      <td>4400000</td>\n",
              "      <td>2112</td>\n",
              "      <td>300000.0</td>\n",
              "      <td>4397888</td>\n",
              "    </tr>\n",
              "  </tbody>\n",
              "</table>\n",
              "</div>\n",
              "      <button class=\"colab-df-convert\" onclick=\"convertToInteractive('df-58104457-8085-4dec-a5e3-5524cb5e625d')\"\n",
              "              title=\"Convert this dataframe to an interactive table.\"\n",
              "              style=\"display:none;\">\n",
              "        \n",
              "  <svg xmlns=\"http://www.w3.org/2000/svg\" height=\"24px\"viewBox=\"0 0 24 24\"\n",
              "       width=\"24px\">\n",
              "    <path d=\"M0 0h24v24H0V0z\" fill=\"none\"/>\n",
              "    <path d=\"M18.56 5.44l.94 2.06.94-2.06 2.06-.94-2.06-.94-.94-2.06-.94 2.06-2.06.94zm-11 1L8.5 8.5l.94-2.06 2.06-.94-2.06-.94L8.5 2.5l-.94 2.06-2.06.94zm10 10l.94 2.06.94-2.06 2.06-.94-2.06-.94-.94-2.06-.94 2.06-2.06.94z\"/><path d=\"M17.41 7.96l-1.37-1.37c-.4-.4-.92-.59-1.43-.59-.52 0-1.04.2-1.43.59L10.3 9.45l-7.72 7.72c-.78.78-.78 2.05 0 2.83L4 21.41c.39.39.9.59 1.41.59.51 0 1.02-.2 1.41-.59l7.78-7.78 2.81-2.81c.8-.78.8-2.07 0-2.86zM5.41 20L4 18.59l7.72-7.72 1.47 1.35L5.41 20z\"/>\n",
              "  </svg>\n",
              "      </button>\n",
              "      \n",
              "  <style>\n",
              "    .colab-df-container {\n",
              "      display:flex;\n",
              "      flex-wrap:wrap;\n",
              "      gap: 12px;\n",
              "    }\n",
              "\n",
              "    .colab-df-convert {\n",
              "      background-color: #E8F0FE;\n",
              "      border: none;\n",
              "      border-radius: 50%;\n",
              "      cursor: pointer;\n",
              "      display: none;\n",
              "      fill: #1967D2;\n",
              "      height: 32px;\n",
              "      padding: 0 0 0 0;\n",
              "      width: 32px;\n",
              "    }\n",
              "\n",
              "    .colab-df-convert:hover {\n",
              "      background-color: #E2EBFA;\n",
              "      box-shadow: 0px 1px 2px rgba(60, 64, 67, 0.3), 0px 1px 3px 1px rgba(60, 64, 67, 0.15);\n",
              "      fill: #174EA6;\n",
              "    }\n",
              "\n",
              "    [theme=dark] .colab-df-convert {\n",
              "      background-color: #3B4455;\n",
              "      fill: #D2E3FC;\n",
              "    }\n",
              "\n",
              "    [theme=dark] .colab-df-convert:hover {\n",
              "      background-color: #434B5C;\n",
              "      box-shadow: 0px 1px 3px 1px rgba(0, 0, 0, 0.15);\n",
              "      filter: drop-shadow(0px 1px 2px rgba(0, 0, 0, 0.3));\n",
              "      fill: #FFFFFF;\n",
              "    }\n",
              "  </style>\n",
              "\n",
              "      <script>\n",
              "        const buttonEl =\n",
              "          document.querySelector('#df-58104457-8085-4dec-a5e3-5524cb5e625d button.colab-df-convert');\n",
              "        buttonEl.style.display =\n",
              "          google.colab.kernel.accessAllowed ? 'block' : 'none';\n",
              "\n",
              "        async function convertToInteractive(key) {\n",
              "          const element = document.querySelector('#df-58104457-8085-4dec-a5e3-5524cb5e625d');\n",
              "          const dataTable =\n",
              "            await google.colab.kernel.invokeFunction('convertToInteractive',\n",
              "                                                     [key], {});\n",
              "          if (!dataTable) return;\n",
              "\n",
              "          const docLinkHtml = 'Like what you see? Visit the ' +\n",
              "            '<a target=\"_blank\" href=https://colab.research.google.com/notebooks/data_table.ipynb>data table notebook</a>'\n",
              "            + ' to learn more about interactive tables.';\n",
              "          element.innerHTML = '';\n",
              "          dataTable['output_type'] = 'display_data';\n",
              "          await google.colab.output.renderOutput(dataTable, element);\n",
              "          const docLink = document.createElement('div');\n",
              "          docLink.innerHTML = docLinkHtml;\n",
              "          element.appendChild(docLink);\n",
              "        }\n",
              "      </script>\n",
              "    </div>\n",
              "  </div>\n",
              "  "
            ]
          },
          "metadata": {},
          "execution_count": 260
        }
      ]
    },
    {
      "cell_type": "code",
      "source": [
        "quantiles.plot(\n",
        "    kind='bar',\n",
        "    y=['Q1','Q3','IQL','Range']\n",
        ")\n",
        "plt.legend()"
      ],
      "metadata": {
        "colab": {
          "base_uri": "https://localhost:8080/",
          "height": 346
        },
        "outputId": "b4e153f4-07a0-4fcd-8357-e75df631451d",
        "id": "Hhd-czD_1olW"
      },
      "execution_count": 264,
      "outputs": [
        {
          "output_type": "execute_result",
          "data": {
            "text/plain": [
              "<matplotlib.legend.Legend at 0x7f994e5f0610>"
            ]
          },
          "metadata": {},
          "execution_count": 264
        },
        {
          "output_type": "display_data",
          "data": {
            "text/plain": [
              "<Figure size 432x288 with 1 Axes>"
            ],
            "image/png": "[encoded data removed]"
          },
          "metadata": {
            "needs_background": "light"
          }
        }
      ]
    },
    {
      "cell_type": "markdown",
      "source": [
        "max sangat jauh terhadap min gaji shingga range nya jauh"
      ],
      "metadata": {
        "id": "2vzxBvm1_z-y"
      }
    },
    {
      "cell_type": "code",
      "source": [
        "quantiles.plot(\n",
        "    kind='bar',\n",
        "    y=['Q1','Q3','IQL']\n",
        ")"
      ],
      "metadata": {
        "colab": {
          "base_uri": "https://localhost:8080/",
          "height": 346
        },
        "outputId": "fe27d4bf-b481-4dad-b13a-d921cdc45c46",
        "id": "UKs7MNGa1olX"
      },
      "execution_count": 262,
      "outputs": [
        {
          "output_type": "execute_result",
          "data": {
            "text/plain": [
              "<matplotlib.axes._subplots.AxesSubplot at 0x7f994df78fd0>"
            ]
          },
          "metadata": {},
          "execution_count": 262
        },
        {
          "output_type": "display_data",
          "data": {
            "text/plain": [
              "<Figure size 432x288 with 1 Axes>"
            ],
            "image/png": "[encoded data removed]"
          },
          "metadata": {
            "needs_background": "light"
          }
        }
      ]
    },
    {
      "cell_type": "code",
      "source": [
        "data.groupby(['Location','Job Roles']).mean()['Salary'].unstack().plot(\n",
        "    kind='bar',\n",
        "    figsize=(20,10)\n",
        ")\n",
        "plt.xticks(fontsize=20)\n",
        "plt.show()"
      ],
      "metadata": {
        "colab": {
          "base_uri": "https://localhost:8080/",
          "height": 773
        },
        "id": "2dMeHRg78b6o",
        "outputId": "eb0677fe-6826-476b-c648-299cf721f9c2"
      },
      "execution_count": 284,
      "outputs": [
        {
          "output_type": "display_data",
          "data": {
            "text/plain": [
              "<Figure size 1440x720 with 1 Axes>"
            ],
            "image/png": "[encoded data removed]"
          },
          "metadata": {
            "needs_background": "light"
          }
        }
      ]
    },
    {
      "cell_type": "markdown",
      "source": [
        "ada beberapa perkerjaan yang tidak dibutuhkan di beberapa kota india"
      ],
      "metadata": {
        "id": "nPy13m-T-VN2"
      }
    },
    {
      "cell_type": "code",
      "source": [
        "data.groupby(['Job Roles','Location']).mean()['Salary'].unstack().plot(\n",
        "    kind='bar',\n",
        "    figsize=(20,10)\n",
        ")\n",
        "plt.xticks(fontsize=20)\n",
        "plt.show()"
      ],
      "metadata": {
        "colab": {
          "base_uri": "https://localhost:8080/",
          "height": 702
        },
        "id": "vkv2fVkd-xrV",
        "outputId": "47c28a6b-a037-454a-8842-07d8b2ba133d"
      },
      "execution_count": 285,
      "outputs": [
        {
          "output_type": "display_data",
          "data": {
            "text/plain": [
              "<Figure size 1440x720 with 1 Axes>"
            ],
            "image/png": "[encoded data removed]"
          },
          "metadata": {
            "needs_background": "light"
          }
        }
      ]
    },
    {
      "cell_type": "markdown",
      "source": [
        "rata rata gaji tertinggi di chennai adalah DB bahkan lebih tinggi dibandingkan lainnya"
      ],
      "metadata": {
        "id": "rBKwld-P-m34"
      }
    },
    {
      "cell_type": "code",
      "source": [
        "data['Salary'].plot(\n",
        "    kind='box'\n",
        ")"
      ],
      "metadata": {
        "colab": {
          "base_uri": "https://localhost:8080/",
          "height": 294
        },
        "id": "gzYLJ4v6AUtq",
        "outputId": "ec98021d-03df-43e9-b897-b8ed5159bc90"
      },
      "execution_count": 289,
      "outputs": [
        {
          "output_type": "execute_result",
          "data": {
            "text/plain": [
              "<matplotlib.axes._subplots.AxesSubplot at 0x7f992ef5ca10>"
            ]
          },
          "metadata": {},
          "execution_count": 289
        },
        {
          "output_type": "display_data",
          "data": {
            "text/plain": [
              "<Figure size 432x288 with 1 Axes>"
            ],
            "image/png": "[encoded data removed]"
          },
          "metadata": {
            "needs_background": "light"
          }
        }
      ]
    },
    {
      "cell_type": "code",
      "source": [
        "plt.violinplot(data['Salary'])\n",
        "plt.show()"
      ],
      "metadata": {
        "colab": {
          "base_uri": "https://localhost:8080/",
          "height": 276
        },
        "id": "Fdp2ijU4B1AG",
        "outputId": "5770cbd4-5bb2-4a19-b4e2-e8b07e87981c"
      },
      "execution_count": 293,
      "outputs": [
        {
          "output_type": "display_data",
          "data": {
            "text/plain": [
              "<Figure size 432x288 with 1 Axes>"
            ],
            "image/png": "[encoded data removed]"
          },
          "metadata": {
            "needs_background": "light"
          }
        }
      ]
    },
    {
      "cell_type": "code",
      "source": [
        "data['Salary'].plot(\n",
        "    kind='kde'\n",
        ")"
      ],
      "metadata": {
        "colab": {
          "base_uri": "https://localhost:8080/",
          "height": 307
        },
        "id": "WllaM70WCZZc",
        "outputId": "a65e712a-56bd-4b10-ad38-869865eb13b2"
      },
      "execution_count": 294,
      "outputs": [
        {
          "output_type": "execute_result",
          "data": {
            "text/plain": [
              "<matplotlib.axes._subplots.AxesSubplot at 0x7f993cc88b10>"
            ]
          },
          "metadata": {},
          "execution_count": 294
        },
        {
          "output_type": "display_data",
          "data": {
            "text/plain": [
              "<Figure size 432x288 with 1 Axes>"
            ],
            "image/png": "[encoded data removed]"
          },
          "metadata": {
            "needs_background": "light"
          }
        }
      ]
    },
    {
      "cell_type": "code",
      "source": [
        "fig, ax = plt.subplots()\n",
        "data['Salary'].plot(\n",
        "    kind='hist',\n",
        "    bins=100,\n",
        "    ax=ax,\n",
        "    density=True,\n",
        "    figsize=(20,10)\n",
        ")\n",
        "data['Salary'].plot(\n",
        "    kind='kde',\n",
        "    ax=ax\n",
        ")"
      ],
      "metadata": {
        "colab": {
          "base_uri": "https://localhost:8080/",
          "height": 634
        },
        "id": "seS46ngMCcFm",
        "outputId": "0e110066-47b2-43fe-c47a-c68bcd0017a1"
      },
      "execution_count": 304,
      "outputs": [
        {
          "output_type": "execute_result",
          "data": {
            "text/plain": [
              "<matplotlib.axes._subplots.AxesSubplot at 0x7f992b3b0490>"
            ]
          },
          "metadata": {},
          "execution_count": 304
        },
        {
          "output_type": "display_data",
          "data": {
            "text/plain": [
              "<Figure size 1440x720 with 1 Axes>"
            ],
            "image/png": "[encoded data removed]"
          },
          "metadata": {
            "needs_background": "light"
          }
        }
      ]
    },
    {
      "cell_type": "markdown",
      "source": [
        "this is not normal distribution, it's more like power law distribution"
      ],
      "metadata": {
        "id": "5l_agtOIDwXg"
      }
    },
    {
      "cell_type": "code",
      "source": [
        "data.groupby('Employment Status')['Salary'].mean().plot(\n",
        "    kind='bar'\n",
        ")"
      ],
      "metadata": {
        "colab": {
          "base_uri": "https://localhost:8080/",
          "height": 340
        },
        "id": "tsuVjCoGKUNT",
        "outputId": "8720c599-45a6-4a07-af79-f500950d02c6"
      },
      "execution_count": 308,
      "outputs": [
        {
          "output_type": "execute_result",
          "data": {
            "text/plain": [
              "<matplotlib.axes._subplots.AxesSubplot at 0x7f992b10bcd0>"
            ]
          },
          "metadata": {},
          "execution_count": 308
        },
        {
          "output_type": "display_data",
          "data": {
            "text/plain": [
              "<Figure size 432x288 with 1 Axes>"
            ],
            "image/png": "[encoded data removed]"
          },
          "metadata": {
            "needs_background": "light"
          }
        }
      ]
    },
    {
      "cell_type": "markdown",
      "source": [
        "as a fact the full time get paid more than contract and intern and trainee"
      ],
      "metadata": {
        "id": "ag_MOvreKeVZ"
      }
    },
    {
      "cell_type": "code",
      "source": [
        "anovaData = data.groupby('Job Roles').agg(\n",
        "    mean = ('Salary','mean'),\n",
        "    median=('Salary','median')\n",
        ")"
      ],
      "metadata": {
        "id": "vh6umymwPzWB"
      },
      "execution_count": 309,
      "outputs": []
    },
    {
      "cell_type": "code",
      "source": [
        "anovaData"
      ],
      "metadata": {
        "colab": {
          "base_uri": "https://localhost:8080/",
          "height": 425
        },
        "id": "juLeJW1YP9NU",
        "outputId": "2dd6d62a-c52d-44e9-8e76-67e9781fd3c8"
      },
      "execution_count": 311,
      "outputs": [
        {
          "output_type": "execute_result",
          "data": {
            "text/plain": [
              "                    mean    median\n",
              "Job Roles                         \n",
              "Android    565911.003056  400000.0\n",
              "Backend    748518.164154  500000.0\n",
              "Database   958584.046243  700000.0\n",
              "Frontend   610098.699954  420000.0\n",
              "IOS        695254.248927  588000.0\n",
              "Java       564709.907427  400000.0\n",
              "Mobile     882282.971429  600000.0\n",
              "Python     486022.791975  400000.0\n",
              "SDE        842899.117086  660000.0\n",
              "Testing    496298.188506  400000.0\n",
              "Web        415451.947948  300000.0"
            ],
            "text/html": [
              "\n",
              "  <div id=\"df-abe62a53-adc3-458d-9ebd-10462b6be76d\">\n",
              "    <div class=\"colab-df-container\">\n",
              "      <div>\n",
              "<style scoped>\n",
              "    .dataframe tbody tr th:only-of-type {\n",
              "        vertical-align: middle;\n",
              "    }\n",
              "\n",
              "    .dataframe tbody tr th {\n",
              "        vertical-align: top;\n",
              "    }\n",
              "\n",
              "    .dataframe thead th {\n",
              "        text-align: right;\n",
              "    }\n",
              "</style>\n",
              "<table border=\"1\" class=\"dataframe\">\n",
              "  <thead>\n",
              "    <tr style=\"text-align: right;\">\n",
              "      <th></th>\n",
              "      <th>mean</th>\n",
              "      <th>median</th>\n",
              "    </tr>\n",
              "    <tr>\n",
              "      <th>Job Roles</th>\n",
              "      <th></th>\n",
              "      <th></th>\n",
              "    </tr>\n",
              "  </thead>\n",
              "  <tbody>\n",
              "    <tr>\n",
              "      <th>Android</th>\n",
              "      <td>565911.003056</td>\n",
              "      <td>400000.0</td>\n",
              "    </tr>\n",
              "    <tr>\n",
              "      <th>Backend</th>\n",
              "      <td>748518.164154</td>\n",
              "      <td>500000.0</td>\n",
              "    </tr>\n",
              "    <tr>\n",
              "      <th>Database</th>\n",
              "      <td>958584.046243</td>\n",
              "      <td>700000.0</td>\n",
              "    </tr>\n",
              "    <tr>\n",
              "      <th>Frontend</th>\n",
              "      <td>610098.699954</td>\n",
              "      <td>420000.0</td>\n",
              "    </tr>\n",
              "    <tr>\n",
              "      <th>IOS</th>\n",
              "      <td>695254.248927</td>\n",
              "      <td>588000.0</td>\n",
              "    </tr>\n",
              "    <tr>\n",
              "      <th>Java</th>\n",
              "      <td>564709.907427</td>\n",
              "      <td>400000.0</td>\n",
              "    </tr>\n",
              "    <tr>\n",
              "      <th>Mobile</th>\n",
              "      <td>882282.971429</td>\n",
              "      <td>600000.0</td>\n",
              "    </tr>\n",
              "    <tr>\n",
              "      <th>Python</th>\n",
              "      <td>486022.791975</td>\n",
              "      <td>400000.0</td>\n",
              "    </tr>\n",
              "    <tr>\n",
              "      <th>SDE</th>\n",
              "      <td>842899.117086</td>\n",
              "      <td>660000.0</td>\n",
              "    </tr>\n",
              "    <tr>\n",
              "      <th>Testing</th>\n",
              "      <td>496298.188506</td>\n",
              "      <td>400000.0</td>\n",
              "    </tr>\n",
              "    <tr>\n",
              "      <th>Web</th>\n",
              "      <td>415451.947948</td>\n",
              "      <td>300000.0</td>\n",
              "    </tr>\n",
              "  </tbody>\n",
              "</table>\n",
              "</div>\n",
              "      <button class=\"colab-df-convert\" onclick=\"convertToInteractive('df-abe62a53-adc3-458d-9ebd-10462b6be76d')\"\n",
              "              title=\"Convert this dataframe to an interactive table.\"\n",
              "              style=\"display:none;\">\n",
              "        \n",
              "  <svg xmlns=\"http://www.w3.org/2000/svg\" height=\"24px\"viewBox=\"0 0 24 24\"\n",
              "       width=\"24px\">\n",
              "    <path d=\"M0 0h24v24H0V0z\" fill=\"none\"/>\n",
              "    <path d=\"M18.56 5.44l.94 2.06.94-2.06 2.06-.94-2.06-.94-.94-2.06-.94 2.06-2.06.94zm-11 1L8.5 8.5l.94-2.06 2.06-.94-2.06-.94L8.5 2.5l-.94 2.06-2.06.94zm10 10l.94 2.06.94-2.06 2.06-.94-2.06-.94-.94-2.06-.94 2.06-2.06.94z\"/><path d=\"M17.41 7.96l-1.37-1.37c-.4-.4-.92-.59-1.43-.59-.52 0-1.04.2-1.43.59L10.3 9.45l-7.72 7.72c-.78.78-.78 2.05 0 2.83L4 21.41c.39.39.9.59 1.41.59.51 0 1.02-.2 1.41-.59l7.78-7.78 2.81-2.81c.8-.78.8-2.07 0-2.86zM5.41 20L4 18.59l7.72-7.72 1.47 1.35L5.41 20z\"/>\n",
              "  </svg>\n",
              "      </button>\n",
              "      \n",
              "  <style>\n",
              "    .colab-df-container {\n",
              "      display:flex;\n",
              "      flex-wrap:wrap;\n",
              "      gap: 12px;\n",
              "    }\n",
              "\n",
              "    .colab-df-convert {\n",
              "      background-color: #E8F0FE;\n",
              "      border: none;\n",
              "      border-radius: 50%;\n",
              "      cursor: pointer;\n",
              "      display: none;\n",
              "      fill: #1967D2;\n",
              "      height: 32px;\n",
              "      padding: 0 0 0 0;\n",
              "      width: 32px;\n",
              "    }\n",
              "\n",
              "    .colab-df-convert:hover {\n",
              "      background-color: #E2EBFA;\n",
              "      box-shadow: 0px 1px 2px rgba(60, 64, 67, 0.3), 0px 1px 3px 1px rgba(60, 64, 67, 0.15);\n",
              "      fill: #174EA6;\n",
              "    }\n",
              "\n",
              "    [theme=dark] .colab-df-convert {\n",
              "      background-color: #3B4455;\n",
              "      fill: #D2E3FC;\n",
              "    }\n",
              "\n",
              "    [theme=dark] .colab-df-convert:hover {\n",
              "      background-color: #434B5C;\n",
              "      box-shadow: 0px 1px 3px 1px rgba(0, 0, 0, 0.15);\n",
              "      filter: drop-shadow(0px 1px 2px rgba(0, 0, 0, 0.3));\n",
              "      fill: #FFFFFF;\n",
              "    }\n",
              "  </style>\n",
              "\n",
              "      <script>\n",
              "        const buttonEl =\n",
              "          document.querySelector('#df-abe62a53-adc3-458d-9ebd-10462b6be76d button.colab-df-convert');\n",
              "        buttonEl.style.display =\n",
              "          google.colab.kernel.accessAllowed ? 'block' : 'none';\n",
              "\n",
              "        async function convertToInteractive(key) {\n",
              "          const element = document.querySelector('#df-abe62a53-adc3-458d-9ebd-10462b6be76d');\n",
              "          const dataTable =\n",
              "            await google.colab.kernel.invokeFunction('convertToInteractive',\n",
              "                                                     [key], {});\n",
              "          if (!dataTable) return;\n",
              "\n",
              "          const docLinkHtml = 'Like what you see? Visit the ' +\n",
              "            '<a target=\"_blank\" href=https://colab.research.google.com/notebooks/data_table.ipynb>data table notebook</a>'\n",
              "            + ' to learn more about interactive tables.';\n",
              "          element.innerHTML = '';\n",
              "          dataTable['output_type'] = 'display_data';\n",
              "          await google.colab.output.renderOutput(dataTable, element);\n",
              "          const docLink = document.createElement('div');\n",
              "          docLink.innerHTML = docLinkHtml;\n",
              "          element.appendChild(docLink);\n",
              "        }\n",
              "      </script>\n",
              "    </div>\n",
              "  </div>\n",
              "  "
            ]
          },
          "metadata": {},
          "execution_count": 311
        }
      ]
    },
    {
      "cell_type": "code",
      "source": [
        "data = {i: data[data['Job Roles']==i]['Salary'].values for i in data['Job Roles'].unique()}"
      ],
      "metadata": {
        "id": "2xtHuVYiQtGb"
      },
      "execution_count": 315,
      "outputs": []
    },
    {
      "cell_type": "code",
      "source": [
        "fvalue,pval = stats.f_oneway(\n",
        "    data['Android'],\n",
        "    data['Backend'],\n",
        "    data['Database'],\n",
        "    data['Frontend'],\n",
        "    data['IOS'],\n",
        "    data['Java'],\n",
        "    data['Mobile'],\n",
        "    data['Python'],\n",
        "    data['SDE'],\n",
        "    data['Testing'],\n",
        "    data['Web']\n",
        ")"
      ],
      "metadata": {
        "id": "_QYHk8p0QjiT"
      },
      "execution_count": 317,
      "outputs": []
    },
    {
      "cell_type": "code",
      "source": [
        "if pval < 0.05:\n",
        "  print('reject the null hypothesis, there is a difference among them')\n",
        "else:\n",
        "  print('fail to reject null hypo, there is no difference among them')"
      ],
      "metadata": {
        "colab": {
          "base_uri": "https://localhost:8080/"
        },
        "id": "ebCXKMVNRPto",
        "outputId": "78c11731-1e1a-4609-ca47-b9a3da1c54ef"
      },
      "execution_count": 321,
      "outputs": [
        {
          "output_type": "stream",
          "name": "stdout",
          "text": [
            "reject the null hypothesis, there is a difference among them\n"
          ]
        }
      ]
    }
  ]
}